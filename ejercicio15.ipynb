{
 "cells": [
  {
   "cell_type": "code",
   "execution_count": 9,
   "metadata": {},
   "outputs": [],
   "source": [
    "import CodeBase.sort_clases_fa as SC\n",
    "import CodeBase.frec_acum as FA\n",
    "import CodeBase.ordenar_asc as OR\n",
    "import CodeBase.frec_rel as FR\n",
    "import CodeBase.frec_abs as F\n",
    "import CodeBase.tabla as T\n",
    "import CodeBase.format_str as FS\n",
    "import CodeBase.clases_str_sort as CSS\n",
    "import CodeBase.clases_grouped as CG\n",
    "import CodeBase.tabla_grouped as TG\n",
    "import CodeBase.fa_grouped as FG\n",
    "\n",
    "import Graficas.plot_grafBarras as GB\n"
   ]
  },
  {
   "cell_type": "code",
   "execution_count": 10,
   "metadata": {},
   "outputs": [
    {
     "name": "stdout",
     "output_type": "stream",
     "text": [
      "  Clases         Fa                 Fr              F acumulada     \n",
      "---------- --------------- ------------------- -------------------\n",
      " Flores         4               4.000                4.000        \n",
      " García        14               14.000               18.000       \n",
      " González       12               12.000               30.000       \n",
      " Gutiérrez        4               4.000                34.000       \n",
      " Hernández       15               15.000               49.000       \n",
      "  López        10               10.000               59.000       \n",
      " Martínez       12               12.000               71.000       \n",
      "  Pérez         6               6.000                77.000       \n",
      " Ramírez        6               6.000                83.000       \n",
      " Rodriguez        9               9.000                92.000       \n",
      " Sánchez        8               8.000               100.000       \n"
     ]
    },
    {
     "ename": "TypeError",
     "evalue": "plot_grafBarras() takes 0 positional arguments but 3 were given",
     "output_type": "error",
     "traceback": [
      "\u001b[1;31m---------------------------------------------------------------------------\u001b[0m",
      "\u001b[1;31mTypeError\u001b[0m                                 Traceback (most recent call last)",
      "Cell \u001b[1;32mIn[10], line 28\u001b[0m\n\u001b[0;32m     24\u001b[0m frecuencia_rel_acum\u001b[38;5;241m=\u001b[39mFA\u001b[38;5;241m.\u001b[39mfrec_acum(frecuencia_rel)\n\u001b[0;32m     26\u001b[0m T\u001b[38;5;241m.\u001b[39mtabla(clases,fa_sorted,frecuencia_rel, frecuencia_rel_acum)\n\u001b[1;32m---> 28\u001b[0m \u001b[43mGB\u001b[49m\u001b[38;5;241;43m.\u001b[39;49m\u001b[43mplot_grafBarras\u001b[49m\u001b[43m(\u001b[49m\u001b[43mclases\u001b[49m\u001b[43m,\u001b[49m\u001b[43m \u001b[49m\u001b[43mfa_sorted\u001b[49m\u001b[43m,\u001b[49m\u001b[43m \u001b[49m\u001b[43mclases\u001b[49m\u001b[43m)\u001b[49m\n",
      "\u001b[1;31mTypeError\u001b[0m: plot_grafBarras() takes 0 positional arguments but 3 were given"
     ]
    }
   ],
   "source": [
    "datos_entrada2 = [\n",
    "    \"Ramírez\", \"García\", \"González\", \"Rodriguez\", \"Pérez\", \"Martínez\", \"García\",\n",
    "    \"López\", \"Gutiérrez\", \"López\", \"Rodriguez\", \"Martínez\", \"Rodriguez\", \"Hernández\",\n",
    "    \"García\", \"García\", \"González\", \"Hernández\", \"García\", \"Gutiérrez\", \"Hernández\",\n",
    "    \"López\", \"Pérez\", \"González\", \"Martínez\", \"Ramírez\", \"García\", \"Rodriguez\",\n",
    "    \"Hernández\", \"Sánchez\", \"Hernández\", \"González\", \"Rodriguez\", \"Sánchez\", \"Hernández\",\n",
    "    \"González\", \"Gutiérrez\", \"Martínez\", \"González\", \"Rodriguez\", \"Rodriguez\",\n",
    "    \"Martínez\", \"Ramírez\", \"Pérez\", \"Sánchez\", \"Hernández\", \"Hernández\", \"González\",\n",
    "    \"García\", \"Hernández\", \"Rodriguez\", \"López\", \"Sánchez\", \"Rodriguez\", \"Ramírez\",\n",
    "    \"López\", \"Martínez\", \"García\", \"García\", \"Hernández\", \"González\", \"López\", \"Martínez\",\n",
    "    \"López\", \"García\", \"Sánchez\", \"García\", \"Hernández\", \"Flores\", \"Pérez\", \"González\",\n",
    "    \"González\", \"López\", \"Martínez\", \"González\", \"Martínez\", \"Hernández\", \"Ramírez\",\n",
    "    \"López\", \"Sánchez\", \"Ramírez\", \"Gutiérrez\", \"Sánchez\", \"Flores\", \"García\", \"Martínez\",\n",
    "    \"García\", \"Flores\", \"Pérez\", \"López\", \"Hernández\", \"Martínez\", \"García\", \"Hernández\",\n",
    "    \"Flores\", \"Pérez\", \"González\", \"Hernández\", \"Sánchez\", \"Martínez\"\n",
    "]\n",
    "\n",
    "datos_formated = FS.format_str(datos_entrada2)\n",
    "datos_sorted = CSS.clases_str_sort(datos_formated)\n",
    "clases, fa_ab = F.frec_abs(datos_entrada2)\n",
    "clases_orden = clases.copy()\n",
    "fa_sorted = SC.sort_clases_fa(clases_orden, OR.ordenar_asc(clases), fa_ab)\n",
    "frecuencia_rel=FR.frec_rel(fa_sorted)\n",
    "frecuencia_rel_acum=FA.frec_acum(frecuencia_rel)\n",
    "\n",
    "T.tabla(clases,fa_sorted,frecuencia_rel, frecuencia_rel_acum)\n",
    "\n",
    "GB.plot_grafBarras(clases, fa_sorted, clases)"
   ]
  }
 ],
 "metadata": {
  "kernelspec": {
   "display_name": "Python 3",
   "language": "python",
   "name": "python3"
  },
  "language_info": {
   "codemirror_mode": {
    "name": "ipython",
    "version": 3
   },
   "file_extension": ".py",
   "mimetype": "text/x-python",
   "name": "python",
   "nbconvert_exporter": "python",
   "pygments_lexer": "ipython3",
   "version": "3.12.4"
  }
 },
 "nbformat": 4,
 "nbformat_minor": 2
}
