{
 "cells": [
  {
   "cell_type": "code",
   "execution_count": 13,
   "metadata": {},
   "outputs": [],
   "source": [
    "import CodeBase.sort_clases_fa as SC\n",
    "import CodeBase.frec_acum as FA\n",
    "import CodeBase.ordenar_asc as OR\n",
    "import CodeBase.frec_rel as FR\n",
    "import CodeBase.frec_abs as F\n",
    "import CodeBase.tabla as T\n",
    "import CodeBase.format_str as FS\n",
    "import CodeBase.clases_str_sort as CSS\n",
    "import CodeBase.clases_grouped as CG\n",
    "import CodeBase.tabla_grouped as TG\n",
    "import CodeBase.fa_grouped as FG\n",
    "\n",
    "import Graficas.plot_barras as Barras\n",
    "import Graficas.plot_pie as Pastel\n",
    "\n"
   ]
  },
  {
   "cell_type": "code",
   "execution_count": 14,
   "metadata": {},
   "outputs": [
    {
     "name": "stdout",
     "output_type": "stream",
     "text": [
      "  Clases         Fa                 Fr              F acumulada     \n",
      "---------- --------------- ------------------- -------------------\n",
      " América        8               26.667               26.667       \n",
      " Chivas         5               16.667               43.333       \n",
      " Necaxa         2               6.667                50.000       \n",
      "  Pumas         8               26.667               76.667       \n",
      " Santos         3               10.000               86.667       \n",
      " Toluca         4               13.333              100.000       \n"
     ]
    }
   ],
   "source": [
    "\n",
    "datos = [\n",
    "    \"Pumas\", \"Chivas\", \"Santos\", \"Pumas\", \"América\", \"América\", \"América\",\n",
    "    \"Necaxa\", \"Santos\", \"Chivas\", \"Toluca\", \"América\", \"Pumas\", \"Toluca\",\n",
    "    \"Chivas\", \"Pumas\", \"América\", \"Pumas\", \"Chivas\", \"Toluca\", \"Chivas\",\n",
    "    \"América\", \"América\", \"Pumas\", \"Pumas\", \"Toluca\", \"América\", \"Pumas\",\n",
    "    \"Necaxa\", \"Santos\",]\n",
    "\n",
    "datos_formated = FS.format_str(datos)\n",
    "datos_sorted = CSS.clases_str_sort(datos_formated)\n",
    "clases, fa_ab = F.frec_abs(datos)\n",
    "clases_orden = clases.copy()\n",
    "fa_sorted = SC.sort_clases_fa(clases_orden, OR.ordenar_asc(clases), fa_ab)\n",
    "frecuencia_rel=FR.frec_rel(fa_sorted)\n",
    "frecuencia_rel_acum=FA.frec_acum(frecuencia_rel)\n",
    "\n",
    "T.tabla(clases,fa_sorted,frecuencia_rel, frecuencia_rel_acum)\n",
    "\n",
    "Barras.plot_barras(clases, fa_sorted, clases)\n",
    "Pastel.plot_pie(fa_sorted, clases)"
   ]
  }
 ],
 "metadata": {
  "kernelspec": {
   "display_name": "Python 3",
   "language": "python",
   "name": "python3"
  },
  "language_info": {
   "codemirror_mode": {
    "name": "ipython",
    "version": 3
   },
   "file_extension": ".py",
   "mimetype": "text/x-python",
   "name": "python",
   "nbconvert_exporter": "python",
   "pygments_lexer": "ipython3",
   "version": "3.12.4"
  }
 },
 "nbformat": 4,
 "nbformat_minor": 2
}
