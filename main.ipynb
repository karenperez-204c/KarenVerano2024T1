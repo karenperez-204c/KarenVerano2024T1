{
 "cells": [
  {
   "cell_type": "code",
   "execution_count": 26,
   "metadata": {},
   "outputs": [],
   "source": [
    "import CodeBase.sort_clases_fa as SC\n",
    "import CodeBase.frec_acum as FA\n",
    "import CodeBase.ordenar_asc as OR\n",
    "import CodeBase.frec_rel as FR\n",
    "import CodeBase.frec_abs as F\n",
    "import CodeBase.tabla as T\n",
    "import CodeBase.format_str as FS\n",
    "import CodeBase.clases_str_sort as CSS\n",
    "import CodeBase.clases_grouped as CG\n",
    "import CodeBase.tabla_grouped as TG\n",
    "import CodeBase.fa_grouped as FG\n",
    "\n",
    "\n"
   ]
  },
  {
   "cell_type": "code",
   "execution_count": null,
   "metadata": {},
   "outputs": [],
   "source": []
  },
  {
   "cell_type": "code",
   "execution_count": null,
   "metadata": {},
   "outputs": [],
   "source": [
    "\n"
   ]
  }
 ],
 "metadata": {
  "kernelspec": {
   "display_name": "Python 3",
   "language": "python",
   "name": "python3"
  },
  "language_info": {
   "codemirror_mode": {
    "name": "ipython",
    "version": 3
   },
   "file_extension": ".py",
   "mimetype": "text/x-python",
   "name": "python",
   "nbconvert_exporter": "python",
   "pygments_lexer": "ipython3",
   "version": "3.12.4"
  }
 },
 "nbformat": 4,
 "nbformat_minor": 2
}
